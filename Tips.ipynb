{
 "cells": [
  {
   "cell_type": "code",
   "execution_count": 1,
   "id": "08ca87fb-1b25-452d-b116-6f7fa0df1fc4",
   "metadata": {},
   "outputs": [],
   "source": [
    "from pyspark.sql import SparkSession"
   ]
  },
  {
   "cell_type": "code",
   "execution_count": 3,
   "id": "b8e0e549-bbb1-4c6b-b153-ea45ba5e6134",
   "metadata": {},
   "outputs": [
    {
     "data": {
      "text/html": [
       "\n",
       "            <div>\n",
       "                <p><b>SparkSession - in-memory</b></p>\n",
       "                \n",
       "        <div>\n",
       "            <p><b>SparkContext</b></p>\n",
       "\n",
       "            <p><a href=\"http://DESKTOP-6FHL2MI.mshome.net:4040\">Spark UI</a></p>\n",
       "\n",
       "            <dl>\n",
       "              <dt>Version</dt>\n",
       "                <dd><code>v3.4.1</code></dd>\n",
       "              <dt>Master</dt>\n",
       "                <dd><code>local[*]</code></dd>\n",
       "              <dt>AppName</dt>\n",
       "                <dd><code>Practice</code></dd>\n",
       "            </dl>\n",
       "        </div>\n",
       "        \n",
       "            </div>\n",
       "        "
      ],
      "text/plain": [
       "<pyspark.sql.session.SparkSession at 0x1b820ad81f0>"
      ]
     },
     "execution_count": 3,
     "metadata": {},
     "output_type": "execute_result"
    }
   ],
   "source": [
    "pyspark = SparkSession.builder.appName('Practice').getOrCreate()\n",
    "pyspark"
   ]
  },
  {
   "cell_type": "code",
   "execution_count": 4,
   "id": "d1cc655a-e978-42eb-b89f-24ea3a53620d",
   "metadata": {},
   "outputs": [],
   "source": [
    "data = pyspark.read.csv('tips.csv',header=True,inferSchema=True)"
   ]
  },
  {
   "cell_type": "code",
   "execution_count": 7,
   "id": "f79f6ee5-ac82-4f74-b2bc-e672766f810d",
   "metadata": {},
   "outputs": [
    {
     "name": "stdout",
     "output_type": "stream",
     "text": [
      "+----------+----+------+------+---+------+----+\n",
      "|total_bill| tip|   sex|smoker|day|  time|size|\n",
      "+----------+----+------+------+---+------+----+\n",
      "|     16.99|1.01|Female|    No|Sun|Dinner|   2|\n",
      "|     10.34|1.66|  Male|    No|Sun|Dinner|   3|\n",
      "|     21.01| 3.5|  Male|    No|Sun|Dinner|   3|\n",
      "|     23.68|3.31|  Male|    No|Sun|Dinner|   2|\n",
      "|     24.59|3.61|Female|    No|Sun|Dinner|   4|\n",
      "+----------+----+------+------+---+------+----+\n",
      "only showing top 5 rows\n",
      "\n"
     ]
    }
   ],
   "source": [
    "data.show(5)"
   ]
  },
  {
   "cell_type": "code",
   "execution_count": 8,
   "id": "01dd48bb-91e0-418d-a7ea-817661445025",
   "metadata": {},
   "outputs": [
    {
     "name": "stdout",
     "output_type": "stream",
     "text": [
      "root\n",
      " |-- total_bill: double (nullable = true)\n",
      " |-- tip: double (nullable = true)\n",
      " |-- sex: string (nullable = true)\n",
      " |-- smoker: string (nullable = true)\n",
      " |-- day: string (nullable = true)\n",
      " |-- time: string (nullable = true)\n",
      " |-- size: integer (nullable = true)\n",
      "\n"
     ]
    }
   ],
   "source": [
    "data.printSchema()"
   ]
  },
  {
   "cell_type": "code",
   "execution_count": 11,
   "id": "3f277a35-bf7c-4497-8f7a-44e00eb60550",
   "metadata": {},
   "outputs": [
    {
     "name": "stdout",
     "output_type": "stream",
     "text": [
      "+-------+------------------+\n",
      "|summary|        total_bill|\n",
      "+-------+------------------+\n",
      "|  count|               244|\n",
      "|   mean|19.785942622950824|\n",
      "| stddev| 8.902411954856857|\n",
      "|    min|              3.07|\n",
      "|    max|             50.81|\n",
      "+-------+------------------+\n",
      "\n"
     ]
    }
   ],
   "source": [
    "data.select('total_bill').describe().show()"
   ]
  },
  {
   "cell_type": "code",
   "execution_count": 12,
   "id": "1bab08a2-590a-497d-adcd-5350e3c680b2",
   "metadata": {},
   "outputs": [
    {
     "data": {
      "text/plain": [
       "['total_bill', 'tip', 'sex', 'smoker', 'day', 'time', 'size']"
      ]
     },
     "execution_count": 12,
     "metadata": {},
     "output_type": "execute_result"
    }
   ],
   "source": [
    "data.columns"
   ]
  },
  {
   "cell_type": "code",
   "execution_count": 14,
   "id": "b7d1665a-5af0-408e-8015-708bc9f56208",
   "metadata": {},
   "outputs": [],
   "source": [
    "from pyspark.ml.feature import StringIndexer\n",
    "si = StringIndexer(inputCols=['sex', 'smoker', 'day', 'time'],outputCols=['sex_idx', 'smoker_idx', 'day_idx', 'time_idx'])\n",
    "df = si.fit(data).transform(data)"
   ]
  },
  {
   "cell_type": "code",
   "execution_count": 15,
   "id": "e4301f85-adea-4c81-acb5-57f4f358cbca",
   "metadata": {},
   "outputs": [
    {
     "name": "stdout",
     "output_type": "stream",
     "text": [
      "+----------+----+------+------+---+------+----+-------+----------+-------+--------+\n",
      "|total_bill| tip|   sex|smoker|day|  time|size|sex_idx|smoker_idx|day_idx|time_idx|\n",
      "+----------+----+------+------+---+------+----+-------+----------+-------+--------+\n",
      "|     16.99|1.01|Female|    No|Sun|Dinner|   2|    1.0|       0.0|    1.0|     0.0|\n",
      "|     10.34|1.66|  Male|    No|Sun|Dinner|   3|    0.0|       0.0|    1.0|     0.0|\n",
      "|     21.01| 3.5|  Male|    No|Sun|Dinner|   3|    0.0|       0.0|    1.0|     0.0|\n",
      "|     23.68|3.31|  Male|    No|Sun|Dinner|   2|    0.0|       0.0|    1.0|     0.0|\n",
      "|     24.59|3.61|Female|    No|Sun|Dinner|   4|    1.0|       0.0|    1.0|     0.0|\n",
      "|     25.29|4.71|  Male|    No|Sun|Dinner|   4|    0.0|       0.0|    1.0|     0.0|\n",
      "|      8.77| 2.0|  Male|    No|Sun|Dinner|   2|    0.0|       0.0|    1.0|     0.0|\n",
      "|     26.88|3.12|  Male|    No|Sun|Dinner|   4|    0.0|       0.0|    1.0|     0.0|\n",
      "|     15.04|1.96|  Male|    No|Sun|Dinner|   2|    0.0|       0.0|    1.0|     0.0|\n",
      "|     14.78|3.23|  Male|    No|Sun|Dinner|   2|    0.0|       0.0|    1.0|     0.0|\n",
      "|     10.27|1.71|  Male|    No|Sun|Dinner|   2|    0.0|       0.0|    1.0|     0.0|\n",
      "|     35.26| 5.0|Female|    No|Sun|Dinner|   4|    1.0|       0.0|    1.0|     0.0|\n",
      "|     15.42|1.57|  Male|    No|Sun|Dinner|   2|    0.0|       0.0|    1.0|     0.0|\n",
      "|     18.43| 3.0|  Male|    No|Sun|Dinner|   4|    0.0|       0.0|    1.0|     0.0|\n",
      "|     14.83|3.02|Female|    No|Sun|Dinner|   2|    1.0|       0.0|    1.0|     0.0|\n",
      "|     21.58|3.92|  Male|    No|Sun|Dinner|   2|    0.0|       0.0|    1.0|     0.0|\n",
      "|     10.33|1.67|Female|    No|Sun|Dinner|   3|    1.0|       0.0|    1.0|     0.0|\n",
      "|     16.29|3.71|  Male|    No|Sun|Dinner|   3|    0.0|       0.0|    1.0|     0.0|\n",
      "|     16.97| 3.5|Female|    No|Sun|Dinner|   3|    1.0|       0.0|    1.0|     0.0|\n",
      "|     20.65|3.35|  Male|    No|Sat|Dinner|   3|    0.0|       0.0|    0.0|     0.0|\n",
      "+----------+----+------+------+---+------+----+-------+----------+-------+--------+\n",
      "only showing top 20 rows\n",
      "\n"
     ]
    }
   ],
   "source": [
    "df.show()"
   ]
  },
  {
   "cell_type": "code",
   "execution_count": 16,
   "id": "f2e562c5-741a-4207-a6c5-f9131f25b14a",
   "metadata": {},
   "outputs": [
    {
     "data": {
      "text/plain": [
       "['total_bill',\n",
       " 'tip',\n",
       " 'sex',\n",
       " 'smoker',\n",
       " 'day',\n",
       " 'time',\n",
       " 'size',\n",
       " 'sex_idx',\n",
       " 'smoker_idx',\n",
       " 'day_idx',\n",
       " 'time_idx']"
      ]
     },
     "execution_count": 16,
     "metadata": {},
     "output_type": "execute_result"
    }
   ],
   "source": [
    "df.columns"
   ]
  },
  {
   "cell_type": "code",
   "execution_count": 19,
   "id": "ec7d0611-2788-421e-8e8f-b93497ea7b62",
   "metadata": {},
   "outputs": [],
   "source": [
    "from pyspark.ml.feature import VectorAssembler\n",
    "vas = VectorAssembler(inputCols=['tip','size','sex_idx','smoker_idx','day_idx','time_idx'],outputCol='Independent Features')\n",
    "df = vas.transform(df)"
   ]
  },
  {
   "cell_type": "code",
   "execution_count": 20,
   "id": "10c827b6-fe4b-45d1-82ef-9afc98ca467d",
   "metadata": {},
   "outputs": [
    {
     "name": "stdout",
     "output_type": "stream",
     "text": [
      "+----------+----+------+------+---+------+----+-------+----------+-------+--------+--------------------+\n",
      "|total_bill| tip|   sex|smoker|day|  time|size|sex_idx|smoker_idx|day_idx|time_idx|Independent Features|\n",
      "+----------+----+------+------+---+------+----+-------+----------+-------+--------+--------------------+\n",
      "|     16.99|1.01|Female|    No|Sun|Dinner|   2|    1.0|       0.0|    1.0|     0.0|[1.01,2.0,1.0,0.0...|\n",
      "|     10.34|1.66|  Male|    No|Sun|Dinner|   3|    0.0|       0.0|    1.0|     0.0|[1.66,3.0,0.0,0.0...|\n",
      "|     21.01| 3.5|  Male|    No|Sun|Dinner|   3|    0.0|       0.0|    1.0|     0.0|[3.5,3.0,0.0,0.0,...|\n",
      "|     23.68|3.31|  Male|    No|Sun|Dinner|   2|    0.0|       0.0|    1.0|     0.0|[3.31,2.0,0.0,0.0...|\n",
      "|     24.59|3.61|Female|    No|Sun|Dinner|   4|    1.0|       0.0|    1.0|     0.0|[3.61,4.0,1.0,0.0...|\n",
      "|     25.29|4.71|  Male|    No|Sun|Dinner|   4|    0.0|       0.0|    1.0|     0.0|[4.71,4.0,0.0,0.0...|\n",
      "|      8.77| 2.0|  Male|    No|Sun|Dinner|   2|    0.0|       0.0|    1.0|     0.0|[2.0,2.0,0.0,0.0,...|\n",
      "|     26.88|3.12|  Male|    No|Sun|Dinner|   4|    0.0|       0.0|    1.0|     0.0|[3.12,4.0,0.0,0.0...|\n",
      "|     15.04|1.96|  Male|    No|Sun|Dinner|   2|    0.0|       0.0|    1.0|     0.0|[1.96,2.0,0.0,0.0...|\n",
      "|     14.78|3.23|  Male|    No|Sun|Dinner|   2|    0.0|       0.0|    1.0|     0.0|[3.23,2.0,0.0,0.0...|\n",
      "|     10.27|1.71|  Male|    No|Sun|Dinner|   2|    0.0|       0.0|    1.0|     0.0|[1.71,2.0,0.0,0.0...|\n",
      "|     35.26| 5.0|Female|    No|Sun|Dinner|   4|    1.0|       0.0|    1.0|     0.0|[5.0,4.0,1.0,0.0,...|\n",
      "|     15.42|1.57|  Male|    No|Sun|Dinner|   2|    0.0|       0.0|    1.0|     0.0|[1.57,2.0,0.0,0.0...|\n",
      "|     18.43| 3.0|  Male|    No|Sun|Dinner|   4|    0.0|       0.0|    1.0|     0.0|[3.0,4.0,0.0,0.0,...|\n",
      "|     14.83|3.02|Female|    No|Sun|Dinner|   2|    1.0|       0.0|    1.0|     0.0|[3.02,2.0,1.0,0.0...|\n",
      "|     21.58|3.92|  Male|    No|Sun|Dinner|   2|    0.0|       0.0|    1.0|     0.0|[3.92,2.0,0.0,0.0...|\n",
      "|     10.33|1.67|Female|    No|Sun|Dinner|   3|    1.0|       0.0|    1.0|     0.0|[1.67,3.0,1.0,0.0...|\n",
      "|     16.29|3.71|  Male|    No|Sun|Dinner|   3|    0.0|       0.0|    1.0|     0.0|[3.71,3.0,0.0,0.0...|\n",
      "|     16.97| 3.5|Female|    No|Sun|Dinner|   3|    1.0|       0.0|    1.0|     0.0|[3.5,3.0,1.0,0.0,...|\n",
      "|     20.65|3.35|  Male|    No|Sat|Dinner|   3|    0.0|       0.0|    0.0|     0.0|(6,[0,1],[3.35,3.0])|\n",
      "+----------+----+------+------+---+------+----+-------+----------+-------+--------+--------------------+\n",
      "only showing top 20 rows\n",
      "\n"
     ]
    }
   ],
   "source": [
    "df.show()"
   ]
  },
  {
   "cell_type": "code",
   "execution_count": 21,
   "id": "a6dacdfb-3cd7-4ad8-ab20-1d2b371b0fc3",
   "metadata": {},
   "outputs": [],
   "source": [
    "df = df.select('Independent Features','total_bill')"
   ]
  },
  {
   "cell_type": "code",
   "execution_count": 22,
   "id": "e0f5a4e6-db13-4bce-89ac-630e72b7c34c",
   "metadata": {},
   "outputs": [],
   "source": [
    "from pyspark.ml.regression import LinearRegression\n",
    "train,test = df.randomSplit([0.75,0.25])"
   ]
  },
  {
   "cell_type": "code",
   "execution_count": 24,
   "id": "cc802a61-df82-47d6-b521-c04a563057f1",
   "metadata": {},
   "outputs": [],
   "source": [
    "lr = LinearRegression(featuresCol='Independent Features',labelCol='total_bill')\n",
    "lr = lr.fit(train)"
   ]
  },
  {
   "cell_type": "code",
   "execution_count": 25,
   "id": "748d08a4-033f-46e8-90fc-18012fb05f99",
   "metadata": {},
   "outputs": [
    {
     "data": {
      "text/plain": [
       "DenseVector([2.9103, 3.3801, -1.9694, 1.8601, 0.1955, -1.0319])"
      ]
     },
     "execution_count": 25,
     "metadata": {},
     "output_type": "execute_result"
    }
   ],
   "source": [
    "lr.coefficients"
   ]
  },
  {
   "cell_type": "code",
   "execution_count": 26,
   "id": "628da88c-75d3-4c2e-9a0f-6467f40759f1",
   "metadata": {},
   "outputs": [
    {
     "data": {
      "text/plain": [
       "2.4832700236910585"
      ]
     },
     "execution_count": 26,
     "metadata": {},
     "output_type": "execute_result"
    }
   ],
   "source": [
    "lr.intercept"
   ]
  },
  {
   "cell_type": "code",
   "execution_count": 27,
   "id": "ecc4e4b4-d0ed-4ac7-9dfd-4755887fd45f",
   "metadata": {},
   "outputs": [],
   "source": [
    "pred = lr.evaluate(test)"
   ]
  },
  {
   "cell_type": "code",
   "execution_count": 29,
   "id": "dfc0c420-ef67-4152-a1a1-9505719763ba",
   "metadata": {},
   "outputs": [
    {
     "name": "stdout",
     "output_type": "stream",
     "text": [
      "+--------------------+----------+------------------+\n",
      "|Independent Features|total_bill|        prediction|\n",
      "+--------------------+----------+------------------+\n",
      "|(6,[0,1],[1.25,2.0])|     10.07|12.881332398116312|\n",
      "| (6,[0,1],[2.0,2.0])|     13.37|15.064036287191465|\n",
      "| (6,[0,1],[2.5,4.0])|     18.35|23.279394772541565|\n",
      "| (6,[0,1],[3.0,2.0])|      14.0| 17.97430813929167|\n",
      "| (6,[0,1],[3.0,4.0])|     20.45|24.734530698591666|\n",
      "|(6,[0,1],[3.18,2.0])|     19.82| 18.49815707266971|\n",
      "|(6,[0,1],[3.27,2.0])|     17.78|18.760081539358726|\n",
      "| (6,[0,1],[3.6,3.0])|     24.06| 23.10058253020179|\n",
      "|(6,[0,1],[3.76,2.0])|     18.24|20.186114746887824|\n",
      "|[1.0,1.0,1.0,0.0,...|      7.25|6.8042802641430615|\n",
      "|[1.0,2.0,0.0,1.0,...|      12.6| 14.01388169823838|\n",
      "|[1.0,2.0,1.0,1.0,...|      5.75|12.631106672983574|\n",
      "|[1.1,2.0,1.0,1.0,...|      12.9|  12.3355359921502|\n",
      "|[1.5,2.0,0.0,0.0,...|     12.46|14.195498227184755|\n",
      "|[1.57,2.0,0.0,0.0...|     15.42|14.008152012802842|\n",
      "|[1.64,2.0,0.0,1.0...|     15.36|15.876455683582511|\n",
      "|[1.66,3.0,0.0,0.0...|     10.34|17.650187759141858|\n",
      "|[1.68,2.0,1.0,0.0...|     13.42|11.522524431829687|\n",
      "|[1.73,2.0,0.0,0.0...|      9.78|13.637410915732897|\n",
      "|[1.76,2.0,0.0,1.0...|     11.24|16.225688305834534|\n",
      "+--------------------+----------+------------------+\n",
      "only showing top 20 rows\n",
      "\n"
     ]
    }
   ],
   "source": [
    "pred.predictions.show()"
   ]
  },
  {
   "cell_type": "code",
   "execution_count": 32,
   "id": "7c3e1ca3-f4fb-4d1c-8e11-f0185652fd9b",
   "metadata": {},
   "outputs": [
    {
     "name": "stdout",
     "output_type": "stream",
     "text": [
      "R2 score: 0.6053632529726868\n",
      "Mean Absolute Error: 4.2037175231212975\n",
      "Mean Squared error: 35.9030336098997\n"
     ]
    }
   ],
   "source": [
    "print(\"R2 score: {}\\nMean Absolute Error: {}\\nMean Squared error: {}\".format(pred.r2,pred.meanAbsoluteError,pred.meanSquaredError))"
   ]
  }
 ],
 "metadata": {
  "kernelspec": {
   "display_name": "Python 3 (ipykernel)",
   "language": "python",
   "name": "python3"
  },
  "language_info": {
   "codemirror_mode": {
    "name": "ipython",
    "version": 3
   },
   "file_extension": ".py",
   "mimetype": "text/x-python",
   "name": "python",
   "nbconvert_exporter": "python",
   "pygments_lexer": "ipython3",
   "version": "3.10.13"
  }
 },
 "nbformat": 4,
 "nbformat_minor": 5
}
