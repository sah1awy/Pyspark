{
 "cells": [
  {
   "cell_type": "code",
   "execution_count": 77,
   "id": "223653d8-a9a5-4f71-9fe4-3958c2c843c2",
   "metadata": {},
   "outputs": [],
   "source": [
    "import pyspark \n",
    "from pyspark.sql import SparkSession\n",
    "from pyspark.sql.functions import sum"
   ]
  },
  {
   "cell_type": "code",
   "execution_count": 2,
   "id": "95b17c53-21e3-49eb-9633-046ed05e9cd8",
   "metadata": {},
   "outputs": [],
   "source": [
    "spark = SparkSession.builder.appName('Preprocessing').getOrCreate()"
   ]
  },
  {
   "cell_type": "code",
   "execution_count": 3,
   "id": "97f04280-a488-43a2-9181-585d286f2d70",
   "metadata": {},
   "outputs": [
    {
     "data": {
      "text/html": [
       "\n",
       "            <div>\n",
       "                <p><b>SparkSession - in-memory</b></p>\n",
       "                \n",
       "        <div>\n",
       "            <p><b>SparkContext</b></p>\n",
       "\n",
       "            <p><a href=\"http://DESKTOP-6FHL2MI:4041\">Spark UI</a></p>\n",
       "\n",
       "            <dl>\n",
       "              <dt>Version</dt>\n",
       "                <dd><code>v3.4.1</code></dd>\n",
       "              <dt>Master</dt>\n",
       "                <dd><code>local[*]</code></dd>\n",
       "              <dt>AppName</dt>\n",
       "                <dd><code>Preprocessing</code></dd>\n",
       "            </dl>\n",
       "        </div>\n",
       "        \n",
       "            </div>\n",
       "        "
      ],
      "text/plain": [
       "<pyspark.sql.session.SparkSession at 0x275e29e1990>"
      ]
     },
     "execution_count": 3,
     "metadata": {},
     "output_type": "execute_result"
    }
   ],
   "source": [
    "spark"
   ]
  },
  {
   "cell_type": "code",
   "execution_count": 114,
   "id": "32266a2f-ad51-46a9-9a8c-6106928b4059",
   "metadata": {},
   "outputs": [],
   "source": [
    "data = spark.read.csv('test2.csv',header=True,inferSchema=True)"
   ]
  },
  {
   "cell_type": "code",
   "execution_count": 115,
   "id": "ca5057a7-2fbf-4518-92f6-384236bb7b6a",
   "metadata": {},
   "outputs": [
    {
     "name": "stdout",
     "output_type": "stream",
     "text": [
      "+---------+----+----------+------+\n",
      "|     Name| age|Experience|Salary|\n",
      "+---------+----+----------+------+\n",
      "|    Krish|  31|        10| 30000|\n",
      "|Sudhanshu|  30|         8| 25000|\n",
      "|    Sunny|  29|         4| 20000|\n",
      "|     Paul|  24|         3| 20000|\n",
      "|   Harsha|  21|         1| 15000|\n",
      "|  Shubham|  23|         2| 18000|\n",
      "|   Mahesh|null|      null| 40000|\n",
      "|     null|  34|        10| 38000|\n",
      "|     null|  36|      null|  null|\n",
      "+---------+----+----------+------+\n",
      "\n"
     ]
    }
   ],
   "source": [
    "data.show()"
   ]
  },
  {
   "cell_type": "code",
   "execution_count": 116,
   "id": "3e6edcf7-878b-4d40-b466-8f6fe34dcfea",
   "metadata": {},
   "outputs": [
    {
     "name": "stdout",
     "output_type": "stream",
     "text": [
      "+---------+----+\n",
      "|     Name| age|\n",
      "+---------+----+\n",
      "|    Krish|  31|\n",
      "|Sudhanshu|  30|\n",
      "|    Sunny|  29|\n",
      "|     Paul|  24|\n",
      "|   Harsha|  21|\n",
      "|  Shubham|  23|\n",
      "|   Mahesh|null|\n",
      "|     null|  34|\n",
      "|     null|  36|\n",
      "+---------+----+\n",
      "\n"
     ]
    }
   ],
   "source": [
    "data.select(['Name','age']).show()"
   ]
  },
  {
   "cell_type": "code",
   "execution_count": 117,
   "id": "ed41ac21-d8b6-448c-91f6-a66b777648c2",
   "metadata": {},
   "outputs": [],
   "source": [
    "data = data.withColumnRenamed('age','Age')"
   ]
  },
  {
   "cell_type": "code",
   "execution_count": 118,
   "id": "68229add-9120-4fda-8768-4b04aaac3b83",
   "metadata": {},
   "outputs": [
    {
     "name": "stdout",
     "output_type": "stream",
     "text": [
      "+---------+----+----------+------+\n",
      "|     Name| Age|Experience|Salary|\n",
      "+---------+----+----------+------+\n",
      "|    Krish|  31|        10| 30000|\n",
      "|Sudhanshu|  30|         8| 25000|\n",
      "|    Sunny|  29|         4| 20000|\n",
      "|     Paul|  24|         3| 20000|\n",
      "|   Harsha|  21|         1| 15000|\n",
      "|  Shubham|  23|         2| 18000|\n",
      "|   Mahesh|null|      null| 40000|\n",
      "|     null|  34|        10| 38000|\n",
      "|     null|  36|      null|  null|\n",
      "+---------+----+----------+------+\n",
      "\n"
     ]
    }
   ],
   "source": [
    "data.show()"
   ]
  },
  {
   "cell_type": "code",
   "execution_count": 119,
   "id": "9317866c-cdae-4b4a-8a30-3e402828245d",
   "metadata": {},
   "outputs": [
    {
     "name": "stdout",
     "output_type": "stream",
     "text": [
      "root\n",
      " |-- Name: string (nullable = true)\n",
      " |-- Age: integer (nullable = true)\n",
      " |-- Experience: integer (nullable = true)\n",
      " |-- Salary: integer (nullable = true)\n",
      "\n"
     ]
    }
   ],
   "source": [
    "data.printSchema()"
   ]
  },
  {
   "cell_type": "code",
   "execution_count": 120,
   "id": "47f3e5e5-00bc-43f5-8b76-bcdcba86b12e",
   "metadata": {},
   "outputs": [
    {
     "name": "stdout",
     "output_type": "stream",
     "text": [
      "+-------+------+------------------+------------------+-----------------+\n",
      "|summary|  Name|               Age|        Experience|           Salary|\n",
      "+-------+------+------------------+------------------+-----------------+\n",
      "|  count|     7|                 8|                 7|                8|\n",
      "|   mean|  null|              28.5| 5.428571428571429|          25750.0|\n",
      "| stddev|  null|5.3718844791323335|3.8234863173611093|9361.776388210581|\n",
      "|    min|Harsha|                21|                 1|            15000|\n",
      "|    max| Sunny|                36|                10|            40000|\n",
      "+-------+------+------------------+------------------+-----------------+\n",
      "\n"
     ]
    }
   ],
   "source": [
    "data.describe().show()"
   ]
  },
  {
   "cell_type": "code",
   "execution_count": 121,
   "id": "ebc8e16d-ca5c-4e6e-9442-a928a19bf756",
   "metadata": {},
   "outputs": [],
   "source": [
    "data = data.na.drop(how='any',subset='Name')"
   ]
  },
  {
   "cell_type": "code",
   "execution_count": 122,
   "id": "de949396-3293-4224-97d9-0e2c8f07ea3b",
   "metadata": {},
   "outputs": [
    {
     "name": "stdout",
     "output_type": "stream",
     "text": [
      "+---------+----+----------+------+\n",
      "|     Name| Age|Experience|Salary|\n",
      "+---------+----+----------+------+\n",
      "|    Krish|  31|        10| 30000|\n",
      "|Sudhanshu|  30|         8| 25000|\n",
      "|    Sunny|  29|         4| 20000|\n",
      "|     Paul|  24|         3| 20000|\n",
      "|   Harsha|  21|         1| 15000|\n",
      "|  Shubham|  23|         2| 18000|\n",
      "|   Mahesh|null|      null| 40000|\n",
      "+---------+----+----------+------+\n",
      "\n"
     ]
    }
   ],
   "source": [
    "data.show()"
   ]
  },
  {
   "cell_type": "code",
   "execution_count": 123,
   "id": "96af381c-6b96-4bdf-b9e8-4baeef0d8664",
   "metadata": {},
   "outputs": [],
   "source": [
    "data = data.na.fill(int(data.approxQuantile(\"Age\", [0.95], 0.001)[0]),'Age')"
   ]
  },
  {
   "cell_type": "code",
   "execution_count": 124,
   "id": "083ff405-9eb9-4aa3-83ea-fc1b0bcaf8e9",
   "metadata": {},
   "outputs": [],
   "source": [
    "from pyspark.ml.feature import Imputer"
   ]
  },
  {
   "cell_type": "code",
   "execution_count": 125,
   "id": "763756c2-b634-454a-8a25-9ca6e08c78a9",
   "metadata": {},
   "outputs": [],
   "source": [
    "imputer = Imputer(strategy='median',inputCols=['Experience'],outputCols=[f'{c}_imputed' for c in ['Experience']])"
   ]
  },
  {
   "cell_type": "code",
   "execution_count": 137,
   "id": "fc16556b-555f-4e61-a454-48e479731f4f",
   "metadata": {},
   "outputs": [
    {
     "name": "stdout",
     "output_type": "stream",
     "text": [
      "+---------+---+------+------------------+\n",
      "|     Name|Age|Salary|Experience_imputed|\n",
      "+---------+---+------+------------------+\n",
      "|    Krish| 31| 30000|                10|\n",
      "|Sudhanshu| 30| 25000|                 8|\n",
      "|    Sunny| 29| 20000|                 4|\n",
      "|     Paul| 24| 20000|                 3|\n",
      "|   Harsha| 21| 15000|                 1|\n",
      "|  Shubham| 23| 18000|                 2|\n",
      "|   Mahesh| 31| 40000|                14|\n",
      "+---------+---+------+------------------+\n",
      "\n"
     ]
    }
   ],
   "source": [
    "imputer.fit(data).transform(data).drop('Experience').show()"
   ]
  },
  {
   "cell_type": "code",
   "execution_count": 127,
   "id": "4d6bde6a-1295-4dd4-94ec-c46f3f09de97",
   "metadata": {},
   "outputs": [],
   "source": [
    "data = data.na.fill(int(data.select(sum('Experience')).collect()[0][0]/2),'Experience')"
   ]
  },
  {
   "cell_type": "code",
   "execution_count": 128,
   "id": "64abc5b1-5f1b-4d3f-81e6-f8d21cb2393d",
   "metadata": {},
   "outputs": [
    {
     "name": "stdout",
     "output_type": "stream",
     "text": [
      "+-------+------+-----------------+-----------------+-----------------+\n",
      "|summary|  Name|              Age|       Experience|           Salary|\n",
      "+-------+------+-----------------+-----------------+-----------------+\n",
      "|  count|     7|                7|                7|                7|\n",
      "|   mean|  null|             27.0|              6.0|          24000.0|\n",
      "| stddev|  null|4.203173404306164|4.795831523312719|8582.928793055822|\n",
      "|    min|Harsha|               21|                1|            15000|\n",
      "|    max| Sunny|               31|               14|            40000|\n",
      "+-------+------+-----------------+-----------------+-----------------+\n",
      "\n"
     ]
    }
   ],
   "source": [
    "data.describe().show()"
   ]
  },
  {
   "cell_type": "code",
   "execution_count": 129,
   "id": "95c0a0ac-4901-4552-86da-7d89d956ab50",
   "metadata": {},
   "outputs": [
    {
     "name": "stdout",
     "output_type": "stream",
     "text": [
      "+-----+---+----------+------+\n",
      "| Name|Age|Experience|Salary|\n",
      "+-----+---+----------+------+\n",
      "|Krish| 31|        10| 30000|\n",
      "+-----+---+----------+------+\n",
      "\n"
     ]
    }
   ],
   "source": [
    "data.filter(data['Name'] == 'Krish').show()"
   ]
  },
  {
   "cell_type": "code",
   "execution_count": 130,
   "id": "cde5eae7-0172-4c36-b732-89ba31fb34ea",
   "metadata": {},
   "outputs": [
    {
     "name": "stdout",
     "output_type": "stream",
     "text": [
      "+---------+---+----------+------+\n",
      "|     Name|Age|Experience|Salary|\n",
      "+---------+---+----------+------+\n",
      "|Sudhanshu| 30|         8| 25000|\n",
      "|    Sunny| 29|         4| 20000|\n",
      "|     Paul| 24|         3| 20000|\n",
      "|   Harsha| 21|         1| 15000|\n",
      "|  Shubham| 23|         2| 18000|\n",
      "|   Mahesh| 31|        14| 40000|\n",
      "+---------+---+----------+------+\n",
      "\n"
     ]
    }
   ],
   "source": [
    "data.filter(~(data['Name'] == 'Krish')).show()"
   ]
  },
  {
   "cell_type": "code",
   "execution_count": 136,
   "id": "163be685-b95f-4246-99cc-2c6ec9770cc6",
   "metadata": {},
   "outputs": [
    {
     "name": "stdout",
     "output_type": "stream",
     "text": [
      "+---------+------+\n",
      "|     Name|Salary|\n",
      "+---------+------+\n",
      "|Sudhanshu| 25000|\n",
      "|    Sunny| 20000|\n",
      "|     Paul| 20000|\n",
      "+---------+------+\n",
      "\n"
     ]
    }
   ],
   "source": [
    "data.filter((data['Salary'] > 18000) & (data['Salary'] < 30000)).select('Name','Salary').show()"
   ]
  }
 ],
 "metadata": {
  "kernelspec": {
   "display_name": "Python 3 (ipykernel)",
   "language": "python",
   "name": "python3"
  },
  "language_info": {
   "codemirror_mode": {
    "name": "ipython",
    "version": 3
   },
   "file_extension": ".py",
   "mimetype": "text/x-python",
   "name": "python",
   "nbconvert_exporter": "python",
   "pygments_lexer": "ipython3",
   "version": "3.10.13"
  }
 },
 "nbformat": 4,
 "nbformat_minor": 5
}
