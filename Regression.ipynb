{
 "cells": [
  {
   "cell_type": "code",
   "execution_count": 1,
   "id": "845b811b-e676-4463-b00e-e843b24b2c9f",
   "metadata": {},
   "outputs": [],
   "source": [
    "from pyspark.sql import SparkSession\n",
    "from pyspark.ml.feature import VectorAssembler\n",
    "from pyspark.ml.regression import LinearRegression"
   ]
  },
  {
   "cell_type": "code",
   "execution_count": 2,
   "id": "8db92613-227b-4eed-bd90-98aa3b76c622",
   "metadata": {},
   "outputs": [],
   "source": [
    "spark = SparkSession.builder.appName('Regression').getOrCreate()"
   ]
  },
  {
   "cell_type": "code",
   "execution_count": 3,
   "id": "434b94eb-19da-499b-b646-2b21f635f83e",
   "metadata": {},
   "outputs": [
    {
     "data": {
      "text/html": [
       "\n",
       "            <div>\n",
       "                <p><b>SparkSession - in-memory</b></p>\n",
       "                \n",
       "        <div>\n",
       "            <p><b>SparkContext</b></p>\n",
       "\n",
       "            <p><a href=\"http://DESKTOP-6FHL2MI:4040\">Spark UI</a></p>\n",
       "\n",
       "            <dl>\n",
       "              <dt>Version</dt>\n",
       "                <dd><code>v3.4.1</code></dd>\n",
       "              <dt>Master</dt>\n",
       "                <dd><code>local[*]</code></dd>\n",
       "              <dt>AppName</dt>\n",
       "                <dd><code>Regression</code></dd>\n",
       "            </dl>\n",
       "        </div>\n",
       "        \n",
       "            </div>\n",
       "        "
      ],
      "text/plain": [
       "<pyspark.sql.session.SparkSession at 0x1b8169401f0>"
      ]
     },
     "execution_count": 3,
     "metadata": {},
     "output_type": "execute_result"
    }
   ],
   "source": [
    "spark"
   ]
  },
  {
   "cell_type": "code",
   "execution_count": 4,
   "id": "b20a7c53-6863-4aaa-9c44-53277bed2393",
   "metadata": {},
   "outputs": [],
   "source": [
    "data = spark.read.csv('test1.csv',header=True,inferSchema=True)"
   ]
  },
  {
   "cell_type": "code",
   "execution_count": 5,
   "id": "b3b76e31-7c6f-4725-a42f-c3ce061dc573",
   "metadata": {},
   "outputs": [
    {
     "name": "stdout",
     "output_type": "stream",
     "text": [
      "+---------+---+----------+------+\n",
      "|     Name|age|Experience|Salary|\n",
      "+---------+---+----------+------+\n",
      "|    Krish| 31|        10| 30000|\n",
      "|Sudhanshu| 30|         8| 25000|\n",
      "|    Sunny| 29|         4| 20000|\n",
      "|     Paul| 24|         3| 20000|\n",
      "|   Harsha| 21|         1| 15000|\n",
      "|  Shubham| 23|         2| 18000|\n",
      "+---------+---+----------+------+\n",
      "\n"
     ]
    }
   ],
   "source": [
    "data.show()"
   ]
  },
  {
   "cell_type": "code",
   "execution_count": 6,
   "id": "7b05e290-a99d-451c-949e-b122e7be882f",
   "metadata": {},
   "outputs": [
    {
     "name": "stdout",
     "output_type": "stream",
     "text": [
      "+-------+------+------------------+-----------------+------------------+\n",
      "|summary|  Name|               age|       Experience|            Salary|\n",
      "+-------+------+------------------+-----------------+------------------+\n",
      "|  count|     6|                 6|                6|                 6|\n",
      "|   mean|  null|26.333333333333332|4.666666666666667|21333.333333333332|\n",
      "| stddev|  null| 4.179314138308661|3.559026084010437| 5354.126134736337|\n",
      "|    min|Harsha|                21|                1|             15000|\n",
      "|    max| Sunny|                31|               10|             30000|\n",
      "+-------+------+------------------+-----------------+------------------+\n",
      "\n"
     ]
    }
   ],
   "source": [
    "data.describe().show()"
   ]
  },
  {
   "cell_type": "code",
   "execution_count": 7,
   "id": "56496208-7138-4f35-84b3-749532276bb2",
   "metadata": {},
   "outputs": [
    {
     "name": "stdout",
     "output_type": "stream",
     "text": [
      "root\n",
      " |-- Name: string (nullable = true)\n",
      " |-- age: integer (nullable = true)\n",
      " |-- Experience: integer (nullable = true)\n",
      " |-- Salary: integer (nullable = true)\n",
      "\n"
     ]
    }
   ],
   "source": [
    "data.printSchema()"
   ]
  },
  {
   "cell_type": "code",
   "execution_count": 8,
   "id": "bf9c3501-1704-4f60-9537-849deaf35f2e",
   "metadata": {},
   "outputs": [
    {
     "data": {
      "text/plain": [
       "['Name', 'age', 'Experience', 'Salary']"
      ]
     },
     "execution_count": 8,
     "metadata": {},
     "output_type": "execute_result"
    }
   ],
   "source": [
    "data.columns"
   ]
  },
  {
   "cell_type": "code",
   "execution_count": 9,
   "id": "7722c32a-b4c2-4094-a749-7b0befe88246",
   "metadata": {},
   "outputs": [
    {
     "name": "stdout",
     "output_type": "stream",
     "text": [
      "+---------+-----+\n",
      "|     Name|count|\n",
      "+---------+-----+\n",
      "|Sudhanshu|    1|\n",
      "|    Sunny|    1|\n",
      "|    Krish|    1|\n",
      "|   Harsha|    1|\n",
      "|     Paul|    1|\n",
      "|  Shubham|    1|\n",
      "+---------+-----+\n",
      "\n"
     ]
    }
   ],
   "source": [
    "data.groupby('Name').count().show()"
   ]
  },
  {
   "cell_type": "code",
   "execution_count": 14,
   "id": "e38471a0-f045-4695-b707-f6fa5cd58af6",
   "metadata": {},
   "outputs": [],
   "source": [
    "data = data.withColumnRenamed('age','Age')"
   ]
  },
  {
   "cell_type": "code",
   "execution_count": 15,
   "id": "a396c22c-4a83-49b3-adab-80831ebfeffc",
   "metadata": {},
   "outputs": [],
   "source": [
    "vec = VectorAssembler(inputCols=['Age','Experience'],outputCol='Independent_feat')"
   ]
  },
  {
   "cell_type": "code",
   "execution_count": 18,
   "id": "7500c42e-cbc1-40d6-86aa-bcbb91e1b43e",
   "metadata": {},
   "outputs": [],
   "source": [
    "dc = vec.transform(data)"
   ]
  },
  {
   "cell_type": "code",
   "execution_count": 19,
   "id": "7b55b82b-2d82-4950-9da7-3423c4bcc022",
   "metadata": {},
   "outputs": [],
   "source": [
    "dc = dc.select(['Independent_feat','Salary'])"
   ]
  },
  {
   "cell_type": "code",
   "execution_count": 20,
   "id": "275148cf-58bf-445a-86b0-2860a8e78d65",
   "metadata": {},
   "outputs": [
    {
     "name": "stdout",
     "output_type": "stream",
     "text": [
      "+----------------+------+\n",
      "|Independent_feat|Salary|\n",
      "+----------------+------+\n",
      "|     [31.0,10.0]| 30000|\n",
      "|      [30.0,8.0]| 25000|\n",
      "|      [29.0,4.0]| 20000|\n",
      "|      [24.0,3.0]| 20000|\n",
      "|      [21.0,1.0]| 15000|\n",
      "|      [23.0,2.0]| 18000|\n",
      "+----------------+------+\n",
      "\n"
     ]
    }
   ],
   "source": [
    "dc.show()"
   ]
  },
  {
   "cell_type": "code",
   "execution_count": 22,
   "id": "2300cea6-73b4-4866-9c16-bfc94f36e57c",
   "metadata": {},
   "outputs": [],
   "source": [
    "lr = LinearRegression(featuresCol='Independent_feat',labelCol='Salary')"
   ]
  },
  {
   "cell_type": "code",
   "execution_count": 23,
   "id": "d6810de4-8a75-4889-8117-3cca455baeb4",
   "metadata": {},
   "outputs": [],
   "source": [
    "train,test = dc.randomSplit([0.75,0.25])"
   ]
  },
  {
   "cell_type": "code",
   "execution_count": 24,
   "id": "12b19d92-8d3c-4d44-b695-be7ece05ed4a",
   "metadata": {},
   "outputs": [],
   "source": [
    "regressor = lr.fit(train)"
   ]
  },
  {
   "cell_type": "code",
   "execution_count": 26,
   "id": "f20e3f09-d910-4d5a-af68-ab3eaaeb50b9",
   "metadata": {},
   "outputs": [
    {
     "data": {
      "text/plain": [
       "DenseVector([-85.2941, 1255.8824])"
      ]
     },
     "execution_count": 26,
     "metadata": {},
     "output_type": "execute_result"
    }
   ],
   "source": [
    "regressor.coefficients"
   ]
  },
  {
   "cell_type": "code",
   "execution_count": 27,
   "id": "47d03d5d-c757-41e9-8623-787af5a446ee",
   "metadata": {},
   "outputs": [
    {
     "data": {
      "text/plain": [
       "17450.0"
      ]
     },
     "execution_count": 27,
     "metadata": {},
     "output_type": "execute_result"
    }
   ],
   "source": [
    "regressor.intercept"
   ]
  },
  {
   "cell_type": "code",
   "execution_count": 29,
   "id": "95cd771c-1d85-448d-8919-3a9887fde39c",
   "metadata": {},
   "outputs": [],
   "source": [
    "pred = regressor.evaluate(test)"
   ]
  },
  {
   "cell_type": "code",
   "execution_count": 31,
   "id": "4eb82aeb-a883-46a3-8b40-daf70f88cf38",
   "metadata": {},
   "outputs": [
    {
     "name": "stdout",
     "output_type": "stream",
     "text": [
      "+----------------+------+------------------+\n",
      "|Independent_feat|Salary|        prediction|\n",
      "+----------------+------+------------------+\n",
      "|      [21.0,1.0]| 15000|16914.705882352922|\n",
      "|      [24.0,3.0]| 20000|19170.588235294123|\n",
      "|      [30.0,8.0]| 25000|24938.235294117712|\n",
      "|     [31.0,10.0]| 30000| 27364.70588235303|\n",
      "+----------------+------+------------------+\n",
      "\n"
     ]
    }
   ],
   "source": [
    "pred.predictions.show()"
   ]
  },
  {
   "cell_type": "code",
   "execution_count": 32,
   "id": "dc762a43-9a47-4bec-845e-acdeeeaf9888",
   "metadata": {},
   "outputs": [
    {
     "data": {
      "text/plain": [
       "1360.294117647014"
      ]
     },
     "execution_count": 32,
     "metadata": {},
     "output_type": "execute_result"
    }
   ],
   "source": [
    "pred.meanAbsoluteError"
   ]
  },
  {
   "cell_type": "code",
   "execution_count": 33,
   "id": "29ce9396-0dcd-4b70-b519-462fa36427d0",
   "metadata": {},
   "outputs": [
    {
     "data": {
      "text/plain": [
       "2825653.1141867097"
      ]
     },
     "execution_count": 33,
     "metadata": {},
     "output_type": "execute_result"
    }
   ],
   "source": [
    "pred.meanSquaredError"
   ]
  }
 ],
 "metadata": {
  "kernelspec": {
   "display_name": "Python 3 (ipykernel)",
   "language": "python",
   "name": "python3"
  },
  "language_info": {
   "codemirror_mode": {
    "name": "ipython",
    "version": 3
   },
   "file_extension": ".py",
   "mimetype": "text/x-python",
   "name": "python",
   "nbconvert_exporter": "python",
   "pygments_lexer": "ipython3",
   "version": "3.10.13"
  }
 },
 "nbformat": 4,
 "nbformat_minor": 5
}
